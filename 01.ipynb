{
 "cells": [
  {
   "cell_type": "markdown",
   "id": "1b8cf9c0-44ba-41bf-a4f1-c37a47d424c1",
   "metadata": {},
   "source": [
    "# Logistic Regression\n",
    "\n",
    "### Bir e-ticaret şirketi, müşterilerinin web sitesinde bir ürün satın alıp almama olasılığını tahmin etmek istiyor. Bu nedenle, geçmiş verileri kullanarak lojistik regresyon modeli oluşturacağız."
   ]
  },
  {
   "cell_type": "code",
   "execution_count": 1,
   "id": "81159448-6e45-44b2-b637-a0139566f53e",
   "metadata": {},
   "outputs": [],
   "source": [
    "import numpy as np\n",
    "import pandas as pd\n",
    "import seaborn as sns\n",
    "import matplotlib.pyplot as plt\n",
    "from sklearn.linear_model import LogisticRegression\n",
    "from sklearn.model_selection import train_test_split, GridSearchCV\n",
    "from sklearn.metrics import accuracy_score\n",
    "from sklearn.preprocessing import StandardScaler"
   ]
  },
  {
   "cell_type": "code",
   "execution_count": 2,
   "id": "9394ff3e-e2e8-4c27-90b6-7d1735f24f5d",
   "metadata": {},
   "outputs": [
    {
     "data": {
      "text/html": [
       "<div>\n",
       "<style scoped>\n",
       "    .dataframe tbody tr th:only-of-type {\n",
       "        vertical-align: middle;\n",
       "    }\n",
       "\n",
       "    .dataframe tbody tr th {\n",
       "        vertical-align: top;\n",
       "    }\n",
       "\n",
       "    .dataframe thead th {\n",
       "        text-align: right;\n",
       "    }\n",
       "</style>\n",
       "<table border=\"1\" class=\"dataframe\">\n",
       "  <thead>\n",
       "    <tr style=\"text-align: right;\">\n",
       "      <th></th>\n",
       "      <th>Visit Duration</th>\n",
       "      <th>Page Views</th>\n",
       "      <th>User Type</th>\n",
       "      <th>Purchase Status</th>\n",
       "    </tr>\n",
       "  </thead>\n",
       "  <tbody>\n",
       "    <tr>\n",
       "      <th>0</th>\n",
       "      <td>6.764052</td>\n",
       "      <td>1</td>\n",
       "      <td>guest</td>\n",
       "      <td>1</td>\n",
       "    </tr>\n",
       "    <tr>\n",
       "      <th>1</th>\n",
       "      <td>5.400157</td>\n",
       "      <td>7</td>\n",
       "      <td>registered</td>\n",
       "      <td>1</td>\n",
       "    </tr>\n",
       "    <tr>\n",
       "      <th>2</th>\n",
       "      <td>5.978738</td>\n",
       "      <td>2</td>\n",
       "      <td>registered</td>\n",
       "      <td>1</td>\n",
       "    </tr>\n",
       "    <tr>\n",
       "      <th>3</th>\n",
       "      <td>7.240893</td>\n",
       "      <td>13</td>\n",
       "      <td>guest</td>\n",
       "      <td>1</td>\n",
       "    </tr>\n",
       "    <tr>\n",
       "      <th>4</th>\n",
       "      <td>6.867558</td>\n",
       "      <td>10</td>\n",
       "      <td>registered</td>\n",
       "      <td>1</td>\n",
       "    </tr>\n",
       "  </tbody>\n",
       "</table>\n",
       "</div>"
      ],
      "text/plain": [
       "   Visit Duration  Page Views   User Type  Purchase Status\n",
       "0        6.764052           1       guest                1\n",
       "1        5.400157           7  registered                1\n",
       "2        5.978738           2  registered                1\n",
       "3        7.240893          13       guest                1\n",
       "4        6.867558          10  registered                1"
      ]
     },
     "execution_count": 2,
     "metadata": {},
     "output_type": "execute_result"
    }
   ],
   "source": [
    "# Veri setini oluşturalım.\n",
    "np.random.seed(0)\n",
    "\n",
    "n_samples = 1000\n",
    "\n",
    "visit_duration = np.random.normal(5, 1, n_samples)\n",
    "page_views = np.random.randint(1, 20, n_samples)\n",
    "user_type = np.random.choice(['registered', 'guest'], n_samples)\n",
    "\n",
    "# Satın alma durumunu oluşturalım.\n",
    "p = 1 / (1 + np.exp(-(3 + 0.5 * visit_duration - 0.1 * page_views + (user_type == 'registered'))))\n",
    "purchase_status = np.random.binomial(1, p)\n",
    "\n",
    "data = pd.DataFrame({\n",
    "    'Visit Duration': visit_duration,\n",
    "    'Page Views': page_views,\n",
    "    'User Type': user_type,\n",
    "    'Purchase Status': purchase_status\n",
    "})\n",
    "data.head()"
   ]
  },
  {
   "cell_type": "code",
   "execution_count": 3,
   "id": "4c2c243f-17c3-48f6-a867-b13dfbf35d9f",
   "metadata": {},
   "outputs": [
    {
     "data": {
      "text/plain": [
       "array([1, 0])"
      ]
     },
     "execution_count": 3,
     "metadata": {},
     "output_type": "execute_result"
    }
   ],
   "source": [
    "data['Purchase Status'].unique()"
   ]
  },
  {
   "cell_type": "markdown",
   "id": "2d8f3c63-2ccf-48cb-a9f4-a71b27fd6197",
   "metadata": {},
   "source": [
    "# Veri Analizi"
   ]
  },
  {
   "cell_type": "code",
   "execution_count": 4,
   "id": "4f4f4151-7e7d-452c-90d8-63d2e84a9311",
   "metadata": {},
   "outputs": [
    {
     "data": {
      "text/html": [
       "<div>\n",
       "<style scoped>\n",
       "    .dataframe tbody tr th:only-of-type {\n",
       "        vertical-align: middle;\n",
       "    }\n",
       "\n",
       "    .dataframe tbody tr th {\n",
       "        vertical-align: top;\n",
       "    }\n",
       "\n",
       "    .dataframe thead th {\n",
       "        text-align: right;\n",
       "    }\n",
       "</style>\n",
       "<table border=\"1\" class=\"dataframe\">\n",
       "  <thead>\n",
       "    <tr style=\"text-align: right;\">\n",
       "      <th></th>\n",
       "      <th>count</th>\n",
       "      <th>mean</th>\n",
       "      <th>std</th>\n",
       "      <th>min</th>\n",
       "      <th>25%</th>\n",
       "      <th>50%</th>\n",
       "      <th>75%</th>\n",
       "      <th>max</th>\n",
       "    </tr>\n",
       "  </thead>\n",
       "  <tbody>\n",
       "    <tr>\n",
       "      <th>Visit Duration</th>\n",
       "      <td>1000.0</td>\n",
       "      <td>4.954743</td>\n",
       "      <td>0.987527</td>\n",
       "      <td>1.953857</td>\n",
       "      <td>4.30158</td>\n",
       "      <td>4.941972</td>\n",
       "      <td>5.606951</td>\n",
       "      <td>7.759355</td>\n",
       "    </tr>\n",
       "    <tr>\n",
       "      <th>Page Views</th>\n",
       "      <td>1000.0</td>\n",
       "      <td>10.207000</td>\n",
       "      <td>5.339725</td>\n",
       "      <td>1.000000</td>\n",
       "      <td>6.00000</td>\n",
       "      <td>10.000000</td>\n",
       "      <td>15.000000</td>\n",
       "      <td>19.000000</td>\n",
       "    </tr>\n",
       "    <tr>\n",
       "      <th>Purchase Status</th>\n",
       "      <td>1000.0</td>\n",
       "      <td>0.991000</td>\n",
       "      <td>0.094488</td>\n",
       "      <td>0.000000</td>\n",
       "      <td>1.00000</td>\n",
       "      <td>1.000000</td>\n",
       "      <td>1.000000</td>\n",
       "      <td>1.000000</td>\n",
       "    </tr>\n",
       "  </tbody>\n",
       "</table>\n",
       "</div>"
      ],
      "text/plain": [
       "                  count       mean       std       min      25%        50%  \\\n",
       "Visit Duration   1000.0   4.954743  0.987527  1.953857  4.30158   4.941972   \n",
       "Page Views       1000.0  10.207000  5.339725  1.000000  6.00000  10.000000   \n",
       "Purchase Status  1000.0   0.991000  0.094488  0.000000  1.00000   1.000000   \n",
       "\n",
       "                       75%        max  \n",
       "Visit Duration    5.606951   7.759355  \n",
       "Page Views       15.000000  19.000000  \n",
       "Purchase Status   1.000000   1.000000  "
      ]
     },
     "execution_count": 4,
     "metadata": {},
     "output_type": "execute_result"
    }
   ],
   "source": [
    "data.describe().T"
   ]
  },
  {
   "cell_type": "code",
   "execution_count": 5,
   "id": "16821ccc-a47c-46b4-a39a-f313f6852877",
   "metadata": {},
   "outputs": [
    {
     "name": "stdout",
     "output_type": "stream",
     "text": [
      "<class 'pandas.core.frame.DataFrame'>\n",
      "RangeIndex: 1000 entries, 0 to 999\n",
      "Data columns (total 4 columns):\n",
      " #   Column           Non-Null Count  Dtype  \n",
      "---  ------           --------------  -----  \n",
      " 0   Visit Duration   1000 non-null   float64\n",
      " 1   Page Views       1000 non-null   int32  \n",
      " 2   User Type        1000 non-null   object \n",
      " 3   Purchase Status  1000 non-null   int32  \n",
      "dtypes: float64(1), int32(2), object(1)\n",
      "memory usage: 23.6+ KB\n"
     ]
    }
   ],
   "source": [
    "data.info()"
   ]
  },
  {
   "cell_type": "code",
   "execution_count": 6,
   "id": "5a661073-93a5-4bb4-8d2e-4544e13370c4",
   "metadata": {},
   "outputs": [
    {
     "data": {
      "text/html": [
       "<div>\n",
       "<style scoped>\n",
       "    .dataframe tbody tr th:only-of-type {\n",
       "        vertical-align: middle;\n",
       "    }\n",
       "\n",
       "    .dataframe tbody tr th {\n",
       "        vertical-align: top;\n",
       "    }\n",
       "\n",
       "    .dataframe thead th {\n",
       "        text-align: right;\n",
       "    }\n",
       "</style>\n",
       "<table border=\"1\" class=\"dataframe\">\n",
       "  <thead>\n",
       "    <tr style=\"text-align: right;\">\n",
       "      <th></th>\n",
       "      <th>Visit Duration</th>\n",
       "      <th>Page Views</th>\n",
       "      <th>Purchase Status</th>\n",
       "    </tr>\n",
       "  </thead>\n",
       "  <tbody>\n",
       "    <tr>\n",
       "      <th>Visit Duration</th>\n",
       "      <td>1.000000</td>\n",
       "      <td>0.028042</td>\n",
       "      <td>0.048415</td>\n",
       "    </tr>\n",
       "    <tr>\n",
       "      <th>Page Views</th>\n",
       "      <td>0.028042</td>\n",
       "      <td>1.000000</td>\n",
       "      <td>-0.020112</td>\n",
       "    </tr>\n",
       "    <tr>\n",
       "      <th>Purchase Status</th>\n",
       "      <td>0.048415</td>\n",
       "      <td>-0.020112</td>\n",
       "      <td>1.000000</td>\n",
       "    </tr>\n",
       "  </tbody>\n",
       "</table>\n",
       "</div>"
      ],
      "text/plain": [
       "                 Visit Duration  Page Views  Purchase Status\n",
       "Visit Duration         1.000000    0.028042         0.048415\n",
       "Page Views             0.028042    1.000000        -0.020112\n",
       "Purchase Status        0.048415   -0.020112         1.000000"
      ]
     },
     "execution_count": 6,
     "metadata": {},
     "output_type": "execute_result"
    }
   ],
   "source": [
    "data.corr()"
   ]
  },
  {
   "cell_type": "code",
   "execution_count": 7,
   "id": "939893dd-8f97-468f-8fa8-c128c785e121",
   "metadata": {},
   "outputs": [
    {
     "data": {
      "text/plain": [
       "Visit Duration      0.975210\n",
       "Page Views         28.512664\n",
       "Purchase Status     0.008928\n",
       "dtype: float64"
      ]
     },
     "execution_count": 7,
     "metadata": {},
     "output_type": "execute_result"
    }
   ],
   "source": [
    "data.var(numeric_only=True)"
   ]
  },
  {
   "cell_type": "code",
   "execution_count": 8,
   "id": "629c04f7-f35a-4052-936c-68b90235ffe4",
   "metadata": {},
   "outputs": [
    {
     "data": {
      "text/plain": [
       "0"
      ]
     },
     "execution_count": 8,
     "metadata": {},
     "output_type": "execute_result"
    }
   ],
   "source": [
    "data.isnull().any().sum()"
   ]
  },
  {
   "cell_type": "code",
   "execution_count": 9,
   "id": "ed27b83d-0900-4449-b7d0-7a823e3a0dcb",
   "metadata": {},
   "outputs": [
    {
     "data": {
      "image/png": "[encoded data removed]",
      "text/plain": [
       "<Figure size 432x288 with 1 Axes>"
      ]
     },
     "metadata": {
      "needs_background": "light"
     },
     "output_type": "display_data"
    }
   ],
   "source": [
    "sns.boxplot(data=data);"
   ]
  },
  {
   "cell_type": "code",
   "execution_count": 10,
   "id": "f46ba032-5966-4220-93a4-2c7640185caf",
   "metadata": {},
   "outputs": [
    {
     "data": {
      "image/png": "[encoded data removed]",
      "text/plain": [
       "<Figure size 720x432 with 1 Axes>"
      ]
     },
     "metadata": {
      "needs_background": "light"
     },
     "output_type": "display_data"
    }
   ],
   "source": [
    "plt.figure(figsize=(10, 6))\n",
    "plt.scatter(data[data['Purchase Status'] == 0]['Visit Duration'], data[data['Purchase Status'] == 0]['Page Views'], c='r', marker='x', label='Satın Alma Yapılmadı')\n",
    "plt.scatter(data[data['Purchase Status'] == 1]['Visit Duration'], data[data['Purchase Status'] == 1]['Page Views'], c='b', marker='o', label='Satın Alma Yapıldı')\n",
    "plt.title('Satın Alma Durumu')\n",
    "plt.xlabel('Ziyaret Süresi')\n",
    "plt.ylabel('Sayfa Görüntülemeleri')\n",
    "plt.legend()\n",
    "plt.show()"
   ]
  },
  {
   "cell_type": "markdown",
   "id": "6dc865b9-6d03-448d-8217-83747fc38e7f",
   "metadata": {},
   "source": [
    "# Veri Ön İşleme"
   ]
  },
  {
   "cell_type": "code",
   "execution_count": 11,
   "id": "760c7039-c792-415d-b78f-632a73f67074",
   "metadata": {},
   "outputs": [
    {
     "data": {
      "text/html": [
       "<div>\n",
       "<style scoped>\n",
       "    .dataframe tbody tr th:only-of-type {\n",
       "        vertical-align: middle;\n",
       "    }\n",
       "\n",
       "    .dataframe tbody tr th {\n",
       "        vertical-align: top;\n",
       "    }\n",
       "\n",
       "    .dataframe thead th {\n",
       "        text-align: right;\n",
       "    }\n",
       "</style>\n",
       "<table border=\"1\" class=\"dataframe\">\n",
       "  <thead>\n",
       "    <tr style=\"text-align: right;\">\n",
       "      <th></th>\n",
       "      <th>Visit Duration</th>\n",
       "      <th>Page Views</th>\n",
       "      <th>User Type</th>\n",
       "      <th>Purchase Status</th>\n",
       "    </tr>\n",
       "  </thead>\n",
       "  <tbody>\n",
       "    <tr>\n",
       "      <th>0</th>\n",
       "      <td>6.764052</td>\n",
       "      <td>1</td>\n",
       "      <td>guest</td>\n",
       "      <td>1</td>\n",
       "    </tr>\n",
       "  </tbody>\n",
       "</table>\n",
       "</div>"
      ],
      "text/plain": [
       "   Visit Duration  Page Views User Type  Purchase Status\n",
       "0        6.764052           1     guest                1"
      ]
     },
     "execution_count": 11,
     "metadata": {},
     "output_type": "execute_result"
    }
   ],
   "source": [
    "data.head(1)"
   ]
  },
  {
   "cell_type": "code",
   "execution_count": 12,
   "id": "a2acfc6b-2f4c-4990-8c2a-fe7cbd0d9c72",
   "metadata": {},
   "outputs": [],
   "source": [
    "q1, q3 = (data['Visit Duration'].quantile(0.25), data['Visit Duration'].quantile(0.75))\n",
    "iqr = q3 - q1\n",
    "alt_sinir = q1 - 1.5 * iqr\n",
    "ust_sinir = q3 + 1.5 * iqr\n",
    "data['Visit Duration'] = np.clip(data['Visit Duration'], alt_sinir, ust_sinir)"
   ]
  },
  {
   "cell_type": "code",
   "execution_count": 13,
   "id": "6bb7415c-4124-4beb-8085-ab09249973d8",
   "metadata": {},
   "outputs": [],
   "source": [
    "data['User Type'] = data['User Type'].map({'guest':0, 'registered':1})"
   ]
  },
  {
   "cell_type": "code",
   "execution_count": 14,
   "id": "32249e63-bad1-4145-b089-c7f6f4a4ca48",
   "metadata": {},
   "outputs": [],
   "source": [
    "lbe = StandardScaler()\n",
    "data['Visit Duration'] = lbe.fit_transform(data[['Visit Duration']])\n",
    "data['Page Views'] = lbe.fit_transform(data[['Page Views']])\n",
    "data['User Type'] = lbe.fit_transform(data[['User Type']])"
   ]
  },
  {
   "cell_type": "code",
   "execution_count": 15,
   "id": "82970723-3167-4018-84e0-079335ff1cbd",
   "metadata": {},
   "outputs": [
    {
     "data": {
      "image/png": "[encoded data removed]",
      "text/plain": [
       "<Figure size 432x288 with 1 Axes>"
      ]
     },
     "metadata": {
      "needs_background": "light"
     },
     "output_type": "display_data"
    }
   ],
   "source": [
    "sns.boxplot(data=data);"
   ]
  },
  {
   "cell_type": "markdown",
   "id": "55e7ff46-9db0-4dc7-b4fd-970e181f49d5",
   "metadata": {},
   "source": [
    "# Model"
   ]
  },
  {
   "cell_type": "code",
   "execution_count": 16,
   "id": "4d87fdff-59c1-4b0b-b3fb-ce65fe3a83f6",
   "metadata": {},
   "outputs": [
    {
     "data": {
      "text/plain": [
       "array([1, 0])"
      ]
     },
     "execution_count": 16,
     "metadata": {},
     "output_type": "execute_result"
    }
   ],
   "source": [
    "data['Purchase Status'].unique()"
   ]
  },
  {
   "cell_type": "code",
   "execution_count": 17,
   "id": "429f11b8-9c8f-4bde-8b32-8f6f26c958c5",
   "metadata": {},
   "outputs": [],
   "source": [
    "# Bağımlı ve bağımsız değişkenleri oluşturalım.\n",
    "X = data.drop('Purchase Status', axis=1)\n",
    "y = data['Purchase Status']"
   ]
  },
  {
   "cell_type": "code",
   "execution_count": 18,
   "id": "b407f534-e26a-4b17-847a-7ab0ccb583aa",
   "metadata": {},
   "outputs": [],
   "source": [
    "# Eğitim ve test setlerini ayıralım.\n",
    "X_train, X_test, y_train, y_test = train_test_split(X, y, test_size=0.2, random_state=42)"
   ]
  },
  {
   "cell_type": "code",
   "execution_count": 19,
   "id": "33aa6bb4-930d-4228-b81f-e404e8177b0d",
   "metadata": {},
   "outputs": [],
   "source": [
    "# Modeli oluşturalım ve eğitelim.\n",
    "model = LogisticRegression().fit(X_train, y_train)"
   ]
  },
  {
   "cell_type": "code",
   "execution_count": 20,
   "id": "1f986d32-a63a-4334-aab7-df93ae4990b0",
   "metadata": {},
   "outputs": [],
   "source": [
    "# Tahmin İşlemi\n",
    "predict = model.predict(X_test)"
   ]
  },
  {
   "cell_type": "code",
   "execution_count": 21,
   "id": "c36e85e8-6b7d-4203-82b6-43b697fed655",
   "metadata": {},
   "outputs": [
    {
     "name": "stdout",
     "output_type": "stream",
     "text": [
      "Accuracy of Model:  1.0\n"
     ]
    }
   ],
   "source": [
    "# Model Değerlendirme\n",
    "accuracy = accuracy_score(y_test, predict)\n",
    "print('Accuracy of Model: ', accuracy)"
   ]
  },
  {
   "cell_type": "markdown",
   "id": "3ddee9cb-5949-4c7f-881f-f85d8e52e656",
   "metadata": {},
   "source": [
    "### Görüldüğü üzere modelimiz %100 doğruluk gösterdi. Üzerinde çalıştığımız veri setini kendimiz oluşturduğumuz için gerçek hayat senaryosu değildir. Bu tarz bir durumda model geliştirme işlemi yapmaya gerek yok fakat biz hiperparametreleri inceleyeceğiz."
   ]
  },
  {
   "cell_type": "code",
   "execution_count": 23,
   "id": "895d6224-fae6-44de-a4bc-b2a41ee1fbab",
   "metadata": {},
   "outputs": [
    {
     "data": {
      "text/plain": [
       "{'C': 1.0,\n",
       " 'class_weight': None,\n",
       " 'dual': False,\n",
       " 'fit_intercept': True,\n",
       " 'intercept_scaling': 1,\n",
       " 'l1_ratio': None,\n",
       " 'max_iter': 100,\n",
       " 'multi_class': 'auto',\n",
       " 'n_jobs': None,\n",
       " 'penalty': 'l2',\n",
       " 'random_state': None,\n",
       " 'solver': 'lbfgs',\n",
       " 'tol': 0.0001,\n",
       " 'verbose': 0,\n",
       " 'warm_start': False}"
      ]
     },
     "execution_count": 23,
     "metadata": {},
     "output_type": "execute_result"
    }
   ],
   "source": [
    "model.get_params()"
   ]
  },
  {
   "cell_type": "markdown",
   "id": "02bda262-b6bf-4f6d-af46-9bd8f4c781e2",
   "metadata": {},
   "source": [
    "### Hiperparametreler için detaylı bilgi: https://scikit-learn.org/stable/modules/generated/sklearn.linear_model.LogisticRegression.html"
   ]
  }
 ],
 "metadata": {
  "kernelspec": {
   "display_name": "Python 3 (ipykernel)",
   "language": "python",
   "name": "python3"
  },
  "language_info": {
   "codemirror_mode": {
    "name": "ipython",
    "version": 3
   },
   "file_extension": ".py",
   "mimetype": "text/x-python",
   "name": "python",
   "nbconvert_exporter": "python",
   "pygments_lexer": "ipython3",
   "version": "3.9.12"
  }
 },
 "nbformat": 4,
 "nbformat_minor": 5
}
